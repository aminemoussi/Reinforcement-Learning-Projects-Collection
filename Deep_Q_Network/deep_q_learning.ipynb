{
  "nbformat": 4,
  "nbformat_minor": 0,
  "metadata": {
    "colab": {
      "provenance": [],
      "gpuType": "T4"
    },
    "kernelspec": {
      "name": "python3",
      "display_name": "Python 3"
    },
    "language_info": {
      "name": "python"
    },
    "accelerator": "GPU"
  },
  "cells": [
    {
      "cell_type": "code",
      "execution_count": 1,
      "metadata": {
        "id": "NjI8JkOWLLBv"
      },
      "outputs": [],
      "source": [
        "# %%\n",
        "import os\n",
        "import random\n",
        "from collections import deque\n",
        "\n",
        "import gymnasium as gym\n",
        "import numpy as np\n",
        "import tensorflow as tf\n",
        "from tensorflow.keras import Model, layers\n"
      ]
    },
    {
      "cell_type": "markdown",
      "source": [
        "creating the environement\n"
      ],
      "metadata": {
        "id": "nxBzIOaNLYZe"
      }
    },
    {
      "cell_type": "code",
      "source": [
        "env = gym.make(\"CartPole-v1\")\n",
        "state_size = env.observation_space.shape[0]\n",
        "action_size = env.action_space.n\n",
        "print(\"feartures of a space: \", state_size)  # 4 features\n",
        "print(\"actions possible: \", action_size)  # 2 actions, (left or right)"
      ],
      "metadata": {
        "colab": {
          "base_uri": "https://localhost:8080/"
        },
        "id": "kGq3T3-HLRgI",
        "outputId": "50f82f6b-334d-4950-850c-d2e33ba66d71"
      },
      "execution_count": 2,
      "outputs": [
        {
          "output_type": "stream",
          "name": "stdout",
          "text": [
            "feartures of a space:  4\n",
            "actions possible:  2\n"
          ]
        }
      ]
    },
    {
      "cell_type": "markdown",
      "source": [
        "the model takes in **4 features** of a state, has **2 hiddne layes** each with **24 neurons** and the last layer outputs **2 neurons** that represent the q-value of each possible actions\n",
        "\n",
        "giving a total of **770** learnable params"
      ],
      "metadata": {
        "id": "1UUh4xbbLeV_"
      }
    },
    {
      "cell_type": "code",
      "source": [
        "class DQN(Model):\n",
        "  def __init__(self, action_size):\n",
        "    super(DQN, self).__init__()\n",
        "    self.action_size = action_size\n",
        "    self.d1 = layers.Dense(24, activation=\"relu\")\n",
        "    self.d2 = layers.Dense(24, activation=\"relu\")\n",
        "    self.d3 = layers.Dense(action_size, activation=\"linear\")\n",
        "\n",
        "  def call(self, x):\n",
        "    x = self.d1(x)\n",
        "    x = self.d2(x)\n",
        "    return self.d3(x)\n",
        "\n",
        "  def get_config(self):\n",
        "    config = super(DQN, self).get_config()\n",
        "    config.update({\"action_size\": self.action_size})\n",
        "    return config\n",
        "\n",
        "  @classmethod\n",
        "  def from_config(cls, config):\n",
        "    return cls(**config)\n",
        "\n"
      ],
      "metadata": {
        "id": "5q-XWrLQLTqa"
      },
      "execution_count": 3,
      "outputs": []
    },
    {
      "cell_type": "code",
      "source": [],
      "metadata": {
        "id": "NqYoewZhNGPz"
      },
      "execution_count": null,
      "outputs": []
    }
  ]
}